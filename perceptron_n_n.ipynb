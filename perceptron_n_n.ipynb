{
 "cells": [
  {
   "cell_type": "markdown",
   "metadata": {},
   "source": [
    "# Реализация перцептрона"
   ]
  },
  {
   "attachments": {
    "image.png": {
     "image/png": "[encoded data removed]"
    }
   },
   "cell_type": "markdown",
   "metadata": {},
   "source": [
    "**Перцептрон** - простейшая нейронная сеть, основанная на следующем принципе:\n",
    "Сеть состоит из трёх слоёв нейронов:\n",
    "1. *Входной слой* - \"сенсоры\" сети, именно они получают изначальные данные, они \"смотрят\" на наш датасет.\n",
    "2. *Внутренний(скрытый) слой(слои)* - нейроны внутреннего слоя передают обработанные *активационной функцией* данные от входного слоя, между собой, а затем в выходной слой\n",
    "3. *Выходной слой* - после взаимодействия с сетью данные выводятся, как решение сети. На основе данного аутпута делается вывод, насколько сеть успешно справилась с поставленной задачей.\n",
    "![image.png](attachment:image.png)"
   ]
  },
  {
   "cell_type": "markdown",
   "metadata": {},
   "source": [
    "Все нейроны между собой одинаковы. Всё, что они делают, передают полученные входные сигналы обработанные одним и тем же алгоритмом - **активационной функцией**. При одинаковом входном сигнале, нейрон выдает одинаковое значение. В таком случае, их все можно было бы заменить одним нейроном. Во избежание подобной проблемы, каждый нейрон имеет **вес**."
   ]
  },
  {
   "cell_type": "markdown",
   "metadata": {},
   "source": [
    "**Вес** нейрона отвечает за важность передаваемого ему значения."
   ]
  },
  {
   "cell_type": "markdown",
   "metadata": {},
   "source": [
    "**Обучение нейронной сети** - процесс подбора оптимальных весов, при которых сеть выдает значение, максимально\n",
    "приближенное к ожидаемому."
   ]
  },
  {
   "cell_type": "markdown",
   "metadata": {},
   "source": [
    "**Обучение с учителем(guided learning)** - процесс обучения, в котором мы используем на вход сети данные, для которых мы знаем результат. При сравнении полученного результата с ожидаемым значением, мы вычисляем отклонение или ошибку, а затем исправляем веса нейронов таким образом, чтобы это отклонение уменьшалось, и повторяем этот процесс многократно, вплоть до достижения необходимого результата. Чем разнообразнее датасет, тем эффективнее обучение."
   ]
  },
  {
   "cell_type": "markdown",
   "metadata": {},
   "source": [
    "## Активационная функция сети - сигмоид"
   ]
  },
  {
   "cell_type": "markdown",
   "metadata": {},
   "source": [
    "$f(x) = \\frac{1}{1 + e^-x}$"
   ]
  },
  {
   "cell_type": "markdown",
   "metadata": {},
   "source": [
    "**Активационная функция** - алгоритм просчёта значения, передаваемого *нейроном* дальше по цепочке, на основании *входных данных*. "
   ]
  },
  {
   "cell_type": "code",
   "execution_count": 36,
   "metadata": {
    "scrolled": true
   },
   "outputs": [
    {
     "data": {
      "image/png": "[encoded data removed]",
      "text/plain": [
       "<Figure size 432x288 with 1 Axes>"
      ]
     },
     "metadata": {
      "needs_background": "light"
     },
     "output_type": "display_data"
    }
   ],
   "source": [
    "import matplotlib.pyplot as plt\n",
    "import numpy as np\n",
    "import math\n",
    "\n",
    "plt.ioff()\n",
    "\n",
    "x = np.linspace(-10, 10, 100)\n",
    "z = 1/(1 + np.exp(-x))\n",
    "\n",
    "plt.plot(x, z)\n",
    "plt.xlabel(\"x\")\n",
    "plt.ylabel(\"Sigmoid(X)\")\n",
    "\n",
    "plt.show()"
   ]
  },
  {
   "cell_type": "markdown",
   "metadata": {},
   "source": [
    "**Сигмоид** - функция, по оси x от минус бесконечности до бесконечности, по оси y в пределах значений **(0, 1)**. В точке х = 0, имеет значение **0.5**."
   ]
  },
  {
   "cell_type": "markdown",
   "metadata": {},
   "source": [
    "Таким образом, получив сумму значений входных данных, нейрон будет выдавать выходное значение на промежутке от 0 до 1. Такая активационная функция хорошо подходит для принятия бинарных решений. Примем, что Sigmoid(x) > 0.5 = ИСТИНА, иначе - ЛОЖЬ"
   ]
  },
  {
   "cell_type": "markdown",
   "metadata": {},
   "source": [
    "**Пример:**\n"
   ]
  },
  {
   "cell_type": "markdown",
   "metadata": {},
   "source": [
    "Допустим, у нас есть три входных нейрона со значениями ИСТИНА, ЛОЖЬ и ИСТИНА, два нейрона в скрытом слое и один выходной нейрон, который будет выдавать результирующее значение по окончании работы сети.\n",
    "Так как сеть ещё не обучена, мы вибираем случайное значение весов на входах от -0.5 до 0.5."
   ]
  },
  {
   "cell_type": "markdown",
   "metadata": {},
   "source": [
    "Таким образом, сумма входных значений первого нейрона скрытого слоя будет равна:"
   ]
  },
  {
   "cell_type": "code",
   "execution_count": 72,
   "metadata": {},
   "outputs": [
    {
     "data": {
      "text/plain": [
       "0.22"
      ]
     },
     "execution_count": 72,
     "metadata": {},
     "output_type": "execute_result"
    }
   ],
   "source": [
    "1*0.43 + 0*0.18 + 1*-0.21"
   ]
  },
  {
   "cell_type": "markdown",
   "metadata": {},
   "source": [
    "Передав значение в функцию, мы получим:"
   ]
  },
  {
   "cell_type": "code",
   "execution_count": 95,
   "metadata": {},
   "outputs": [
    {
     "data": {
      "text/plain": [
       "0.55"
      ]
     },
     "execution_count": 95,
     "metadata": {},
     "output_type": "execute_result"
    }
   ],
   "source": [
    "import numpy as np\n",
    "\n",
    "# Рассчёт выходного значения, путём применения активационной функции\n",
    "def sigmoid(x):\n",
    "    return 1/(1 + np.exp(-x))\n",
    "\n",
    "round(sigmoid(0.22), 2)"
   ]
  },
  {
   "cell_type": "markdown",
   "metadata": {},
   "source": [
    "Выходное значение:\n",
    "$sigmoid(0,22) = \\frac{1}{(1 + e^-0,22)} = 0,55$"
   ]
  },
  {
   "cell_type": "markdown",
   "metadata": {},
   "source": [
    "Повторив операцию со вторым нейроном получим:"
   ]
  },
  {
   "cell_type": "code",
   "execution_count": 99,
   "metadata": {},
   "outputs": [
    {
     "data": {
      "text/plain": [
       "0.42"
      ]
     },
     "execution_count": 99,
     "metadata": {},
     "output_type": "execute_result"
    }
   ],
   "source": [
    "# Сумма входных значений\n",
    "\n",
    "1*0.11 + 0*0.27 + 1*0.31"
   ]
  },
  {
   "cell_type": "code",
   "execution_count": 94,
   "metadata": {},
   "outputs": [
    {
     "data": {
      "text/plain": [
       "0.6"
      ]
     },
     "execution_count": 94,
     "metadata": {},
     "output_type": "execute_result"
    }
   ],
   "source": [
    "import numpy as np\n",
    "\n",
    "# Рассчёт выходного значения, путём применения активационной функции\n",
    "def sigmoid(x):\n",
    "    return 1/(1 + np.exp(-x))\n",
    "\n",
    "round(sigmoid(0.42), 2)"
   ]
  },
  {
   "cell_type": "markdown",
   "metadata": {},
   "source": [
    "Выходное значение: \n",
    "$sigmoid(0,42) = \\frac{1}{(1 + e^-0,42)} = 0,60$"
   ]
  },
  {
   "cell_type": "markdown",
   "metadata": {},
   "source": [
    "Повторим операции для выходного нейрона:"
   ]
  },
  {
   "cell_type": "markdown",
   "metadata": {},
   "source": [
    "Входные значения 0.55 > 0.5 = ИСТИНА & 0.60 > 0.5 = ИСТИНА"
   ]
  },
  {
   "cell_type": "code",
   "execution_count": 104,
   "metadata": {},
   "outputs": [
    {
     "data": {
      "text/plain": [
       "0.64"
      ]
     },
     "execution_count": 104,
     "metadata": {},
     "output_type": "execute_result"
    }
   ],
   "source": [
    "# Сумма входных значений\n",
    "\n",
    "1*0.22 + 1*0.42"
   ]
  },
  {
   "cell_type": "code",
   "execution_count": 102,
   "metadata": {},
   "outputs": [
    {
     "data": {
      "text/plain": [
       "0.65"
      ]
     },
     "execution_count": 102,
     "metadata": {},
     "output_type": "execute_result"
    }
   ],
   "source": [
    "import numpy as np\n",
    "\n",
    "# Рассчёт выходного значения, путём применения активационной функции\n",
    "def sigmoid(x):\n",
    "    return 1/(1 + np.exp(-x))\n",
    "\n",
    "round(sigmoid(0.64), 2)"
   ]
  },
  {
   "cell_type": "markdown",
   "metadata": {},
   "source": [
    "**Результат:**\n",
    "\n",
    "$sigmoid(0,64) = \\frac{1}{(1 + e^-0,64)} = 0,65$"
   ]
  },
  {
   "attachments": {},
   "cell_type": "markdown",
   "metadata": {},
   "source": [
    "![image.png](https://habrastorage.org/getpro/habr/upload_files/a62/06b/85e/a6206b85ebae770be8882ede25dbe6a4.png)\n",
    "___\n",
    "# TODO: check this out\n",
    "*Есть расхождения с изображением автора материала, сумма входных значений второго нейрона $1*0.11 + 0*0.27 + 1*0.31 = 0.42$, а не $0.47$, следовательно выходной нейрон получает на вход $1*0.22 + 1*0.42 = 0.64$, а не $0.60$"
   ]
  },
  {
   "cell_type": "markdown",
   "metadata": {},
   "source": [
    "Рассчитаем ошибку выхода сети, путём получения разницы между ожидаемым значением и выходом(предположим, что ожидавемое значение **0**):"
   ]
  },
  {
   "cell_type": "code",
   "execution_count": 80,
   "metadata": {},
   "outputs": [
    {
     "data": {
      "text/plain": [
       "0.65"
      ]
     },
     "execution_count": 80,
     "metadata": {},
     "output_type": "execute_result"
    }
   ],
   "source": [
    "0.65 - 0"
   ]
  },
  {
   "cell_type": "markdown",
   "metadata": {},
   "source": [
    "#### Для того, чтобы расчитать насколько нужно изменить вес нейрона, необходимо величину ошибки умножить на производную активационной функции в этой точке:\n",
    "\n",
    "$sigmoid(x)dx = sigmoid(x)(1 - sigmoid(x))$"
   ]
  },
  {
   "cell_type": "code",
   "execution_count": 90,
   "metadata": {},
   "outputs": [
    {
     "data": {
      "text/plain": [
       "0.23"
      ]
     },
     "execution_count": 90,
     "metadata": {},
     "output_type": "execute_result"
    }
   ],
   "source": [
    "round(0.65 * (1 - 0.65), 2)"
   ]
  },
  {
   "cell_type": "code",
   "execution_count": null,
   "metadata": {},
   "outputs": [],
   "source": []
  }
 ],
 "metadata": {
  "kernelspec": {
   "display_name": "Python 3",
   "language": "python",
   "name": "python3"
  },
  "language_info": {
   "codemirror_mode": {
    "name": "ipython",
    "version": 3
   },
   "file_extension": ".py",
   "mimetype": "text/x-python",
   "name": "python",
   "nbconvert_exporter": "python",
   "pygments_lexer": "ipython3",
   "version": "3.8.5"
  }
 },
 "nbformat": 4,
 "nbformat_minor": 4
}
